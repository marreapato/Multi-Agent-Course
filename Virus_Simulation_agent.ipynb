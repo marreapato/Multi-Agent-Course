{
  "nbformat": 4,
  "nbformat_minor": 0,
  "metadata": {
    "colab": {
      "provenance": [],
      "authorship_tag": "ABX9TyMsIw9uz7XAXa5P6PxgP/zD",
      "include_colab_link": true
    },
    "kernelspec": {
      "name": "python3",
      "display_name": "Python 3"
    },
    "language_info": {
      "name": "python"
    }
  },
  "cells": [
    {
      "cell_type": "markdown",
      "metadata": {
        "id": "view-in-github",
        "colab_type": "text"
      },
      "source": [
        "<a href=\"https://colab.research.google.com/github/marreapato/Multi-Agent-Course/blob/main/Virus_Simulation_agent.ipynb\" target=\"_parent\"><img src=\"https://colab.research.google.com/assets/colab-badge.svg\" alt=\"Open In Colab\"/></a>"
      ]
    },
    {
      "cell_type": "code",
      "source": [
        "!pip install agentpy"
      ],
      "metadata": {
        "colab": {
          "base_uri": "https://localhost:8080/"
        },
        "id": "fCHF2V66Qqdj",
        "outputId": "671a85ce-7d78-4eaa-9953-66f3ee071c9a"
      },
      "execution_count": 1,
      "outputs": [
        {
          "output_type": "stream",
          "name": "stdout",
          "text": [
            "Collecting agentpy\n",
            "  Downloading agentpy-0.1.5-py3-none-any.whl (53 kB)\n",
            "\u001b[2K     \u001b[90m━━━━━━━━━━━━━━━━━━━━━━━━━━━━━━━━━━━━━━━━\u001b[0m \u001b[32m53.9/53.9 kB\u001b[0m \u001b[31m1.0 MB/s\u001b[0m eta \u001b[36m0:00:00\u001b[0m\n",
            "\u001b[?25hRequirement already satisfied: numpy>=1.19 in /usr/local/lib/python3.10/dist-packages (from agentpy) (1.25.2)\n",
            "Requirement already satisfied: scipy>=1.5.2 in /usr/local/lib/python3.10/dist-packages (from agentpy) (1.11.4)\n",
            "Requirement already satisfied: matplotlib>=3.3.3 in /usr/local/lib/python3.10/dist-packages (from agentpy) (3.7.1)\n",
            "Requirement already satisfied: networkx>=2.5 in /usr/local/lib/python3.10/dist-packages (from agentpy) (3.3)\n",
            "Requirement already satisfied: pandas>=1.1.3 in /usr/local/lib/python3.10/dist-packages (from agentpy) (2.0.3)\n",
            "Collecting SALib>=1.3.7 (from agentpy)\n",
            "  Downloading salib-1.5.0-py3-none-any.whl (778 kB)\n",
            "\u001b[2K     \u001b[90m━━━━━━━━━━━━━━━━━━━━━━━━━━━━━━━━━━━━━━━━\u001b[0m \u001b[32m778.8/778.8 kB\u001b[0m \u001b[31m8.8 MB/s\u001b[0m eta \u001b[36m0:00:00\u001b[0m\n",
            "\u001b[?25hRequirement already satisfied: joblib>=1.1.0 in /usr/local/lib/python3.10/dist-packages (from agentpy) (1.4.2)\n",
            "Requirement already satisfied: contourpy>=1.0.1 in /usr/local/lib/python3.10/dist-packages (from matplotlib>=3.3.3->agentpy) (1.2.1)\n",
            "Requirement already satisfied: cycler>=0.10 in /usr/local/lib/python3.10/dist-packages (from matplotlib>=3.3.3->agentpy) (0.12.1)\n",
            "Requirement already satisfied: fonttools>=4.22.0 in /usr/local/lib/python3.10/dist-packages (from matplotlib>=3.3.3->agentpy) (4.51.0)\n",
            "Requirement already satisfied: kiwisolver>=1.0.1 in /usr/local/lib/python3.10/dist-packages (from matplotlib>=3.3.3->agentpy) (1.4.5)\n",
            "Requirement already satisfied: packaging>=20.0 in /usr/local/lib/python3.10/dist-packages (from matplotlib>=3.3.3->agentpy) (24.0)\n",
            "Requirement already satisfied: pillow>=6.2.0 in /usr/local/lib/python3.10/dist-packages (from matplotlib>=3.3.3->agentpy) (9.4.0)\n",
            "Requirement already satisfied: pyparsing>=2.3.1 in /usr/local/lib/python3.10/dist-packages (from matplotlib>=3.3.3->agentpy) (3.1.2)\n",
            "Requirement already satisfied: python-dateutil>=2.7 in /usr/local/lib/python3.10/dist-packages (from matplotlib>=3.3.3->agentpy) (2.8.2)\n",
            "Requirement already satisfied: pytz>=2020.1 in /usr/local/lib/python3.10/dist-packages (from pandas>=1.1.3->agentpy) (2023.4)\n",
            "Requirement already satisfied: tzdata>=2022.1 in /usr/local/lib/python3.10/dist-packages (from pandas>=1.1.3->agentpy) (2024.1)\n",
            "Collecting multiprocess (from SALib>=1.3.7->agentpy)\n",
            "  Downloading multiprocess-0.70.16-py310-none-any.whl (134 kB)\n",
            "\u001b[2K     \u001b[90m━━━━━━━━━━━━━━━━━━━━━━━━━━━━━━━━━━━━━━━━\u001b[0m \u001b[32m134.8/134.8 kB\u001b[0m \u001b[31m9.4 MB/s\u001b[0m eta \u001b[36m0:00:00\u001b[0m\n",
            "\u001b[?25hRequirement already satisfied: six>=1.5 in /usr/local/lib/python3.10/dist-packages (from python-dateutil>=2.7->matplotlib>=3.3.3->agentpy) (1.16.0)\n",
            "Collecting dill>=0.3.8 (from multiprocess->SALib>=1.3.7->agentpy)\n",
            "  Downloading dill-0.3.8-py3-none-any.whl (116 kB)\n",
            "\u001b[2K     \u001b[90m━━━━━━━━━━━━━━━━━━━━━━━━━━━━━━━━━━━━━━━━\u001b[0m \u001b[32m116.3/116.3 kB\u001b[0m \u001b[31m10.5 MB/s\u001b[0m eta \u001b[36m0:00:00\u001b[0m\n",
            "\u001b[?25hInstalling collected packages: dill, multiprocess, SALib, agentpy\n",
            "Successfully installed SALib-1.5.0 agentpy-0.1.5 dill-0.3.8 multiprocess-0.70.16\n"
          ]
        }
      ]
    },
    {
      "cell_type": "code",
      "execution_count": 2,
      "metadata": {
        "id": "KS0VfivxPxoC"
      },
      "outputs": [],
      "source": [
        "# Model design\n",
        "import agentpy as ap\n",
        "import networkx as nx\n",
        "import random\n",
        "\n",
        "# Visualization\n",
        "import matplotlib.pyplot as plt\n",
        "import seaborn as sns\n",
        "import IPython"
      ]
    },
    {
      "cell_type": "code",
      "source": [
        "class Person(ap.Agent):\n",
        "  def setup(self):\n",
        "    self.condition = 0 #suscetible to infection\n",
        "  def being_sick(self):\n",
        "    rng = self.model.random #inherited from agent class\n",
        "    for n in self.network.neighbors(self):\n",
        "      if n.condition == 0 and self.p.infection_chance > rng.random():\n",
        "        n.condition = 1 #infected\n",
        "    if self.p.recovery_chance > rng.rancom():\n",
        "      self.condition = 2 #recovered"
      ],
      "metadata": {
        "id": "OV34_7PsRnDk"
      },
      "execution_count": 3,
      "outputs": []
    },
    {
      "cell_type": "code",
      "source": [
        "class VirusModel(ap.Model):\n",
        "\n",
        "    def setup(self):\n",
        "        \"\"\" Initialize the agents and network of the model. \"\"\"\n",
        "\n",
        "        # Prepare a small-world network\n",
        "        graph = nx.watts_strogatz_graph(\n",
        "            self.p.population,\n",
        "            self.p.number_of_neighbors,\n",
        "            self.p.network_randomness)\n",
        "\n",
        "        # Create agents and network\n",
        "        self.agents = ap.AgentList(self, self.p.population, Person)\n",
        "        self.network = self.agents.network = ap.Network(self, graph)\n",
        "        self.network.add_agents(self.agents, self.network.nodes)\n",
        "\n",
        "        # Infect a random share of the population\n",
        "        I0 = int(self.p.initial_infection_share * self.p.population)\n",
        "        self.agents.random(I0).condition = 1\n",
        "\n",
        "    def update(self):\n",
        "        \"\"\" Record variables after setup and each step. \"\"\"\n",
        "\n",
        "        # Record share of agents with each condition\n",
        "        for i, c in enumerate(('S', 'I', 'R')):\n",
        "            n_agents = len(self.agents.select(self.agents.condition == i))\n",
        "            self[c] = n_agents / self.p.population\n",
        "            self.record(c)\n",
        "\n",
        "        # Stop simulation if disease is gone\n",
        "        if self.I == 0:\n",
        "            self.stop()\n",
        "\n",
        "    def step(self):\n",
        "        \"\"\" Define the models' events per simulation step. \"\"\"\n",
        "\n",
        "        # Call 'being_sick' for infected agents\n",
        "        self.agents.select(self.agents.condition == 1).being_sick()\n",
        "\n",
        "    def end(self):\n",
        "        \"\"\" Record evaluation measures at the end of the simulation. \"\"\"\n",
        "\n",
        "        # Record final evaluation measures\n",
        "        self.report('Total share infected', self.I + self.R)\n",
        "        self.report('Peak share infected', max(self.log['I']))"
      ],
      "metadata": {
        "id": "9jNaYtCThsC7"
      },
      "execution_count": 4,
      "outputs": []
    },
    {
      "cell_type": "code",
      "source": [],
      "metadata": {
        "id": "mOAChYP0ix_q"
      },
      "execution_count": null,
      "outputs": []
    }
  ]
}